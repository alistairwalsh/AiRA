{
 "cells": [
  {
   "cell_type": "code",
   "execution_count": 3,
   "id": "4e3906b5",
   "metadata": {},
   "outputs": [],
   "source": [
    "import whisper"
   ]
  },
  {
   "cell_type": "code",
   "execution_count": 5,
   "id": "f45ac0ea",
   "metadata": {},
   "outputs": [],
   "source": [
    "path =  '/Users/alistairwalsh/Downloads/'"
   ]
  },
  {
   "cell_type": "code",
   "execution_count": 6,
   "id": "bad26595",
   "metadata": {},
   "outputs": [],
   "source": [
    "audio_file = 'audio1143504670.m4a'"
   ]
  },
  {
   "cell_type": "code",
   "execution_count": null,
   "id": "917924b0",
   "metadata": {},
   "outputs": [
    {
     "name": "stderr",
     "output_type": "stream",
     "text": [
      "100%|███████████████████████████████████████| 139M/139M [00:31<00:00, 4.55MiB/s]\n",
      "/Users/alistairwalsh/opt/anaconda3/lib/python3.9/site-packages/whisper/transcribe.py:115: UserWarning: FP16 is not supported on CPU; using FP32 instead\n",
      "  warnings.warn(\"FP16 is not supported on CPU; using FP32 instead\")\n"
     ]
    }
   ],
   "source": [
    "model = whisper.load_model(\"base\")\n",
    "result = model.transcribe(path + audio_file)\n",
    "print(result[\"text\"])"
   ]
  },
  {
   "cell_type": "code",
   "execution_count": null,
   "id": "4d2a6c9f",
   "metadata": {},
   "outputs": [],
   "source": []
  }
 ],
 "metadata": {
  "kernelspec": {
   "display_name": "Python 3 (ipykernel)",
   "language": "python",
   "name": "python3"
  },
  "language_info": {
   "codemirror_mode": {
    "name": "ipython",
    "version": 3
   },
   "file_extension": ".py",
   "mimetype": "text/x-python",
   "name": "python",
   "nbconvert_exporter": "python",
   "pygments_lexer": "ipython3",
   "version": "3.9.12"
  }
 },
 "nbformat": 4,
 "nbformat_minor": 5
}
